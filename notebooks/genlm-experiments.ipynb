{
 "cells": [
  {
   "cell_type": "markdown",
   "id": "63530270-9e1d-47b9-8595-212f86cd9eb0",
   "metadata": {},
   "source": [
    "# Gen-LM experiments\n",
    "\n",
    "In this notebook I mess around with gen-lm."
   ]
  },
  {
   "cell_type": "code",
   "execution_count": 1,
   "id": "7ca67d82-3da6-4545-a479-a14529073b39",
   "metadata": {},
   "outputs": [
    {
     "name": "stdout",
     "output_type": "stream",
     "text": [
      "INFO 09-23 17:36:11 [__init__.py:235] Automatically detected platform cuda.\n"
     ]
    }
   ],
   "source": [
    "from genlm.control import PromptedLLM, BoolFSA, AWRS"
   ]
  },
  {
   "cell_type": "code",
   "execution_count": null,
   "id": "6fb53684-7cfe-466b-ac5b-327ff78512bc",
   "metadata": {},
   "outputs": [],
   "source": [
    "# Create a language model potential.\n",
    "llm = PromptedLLM.from_name(\"gpt2\")\n",
    "llm.set_prompt_from_str(\"Here is my honest opinion:\")"
   ]
  },
  {
   "cell_type": "code",
   "execution_count": null,
   "id": "fbe3dfd6-5665-468c-aed7-4991f97ff218",
   "metadata": {},
   "outputs": [],
   "source": [
    "# Create a finite-state automaton potential using a regular expression.\n",
    "fsa = BoolFSA.from_regex(r\" SMC is (🔥🔥|😍😍|🤌🤌) with LMs\")"
   ]
  },
  {
   "cell_type": "code",
   "execution_count": null,
   "id": "98a8d84f-000d-4cb0-825e-43f255945ee6",
   "metadata": {},
   "outputs": [],
   "source": [
    "# Coerce the FSA so that it operates on the token type of the language model.\n",
    "coerced_fsa = fsa.coerce(llm, f=b\"\".join)"
   ]
  },
  {
   "cell_type": "code",
   "execution_count": null,
   "id": "a092d74a-aa7a-4929-8035-fb0d0ddc682a",
   "metadata": {},
   "outputs": [],
   "source": [
    "# Create a token sampler that combines the language model and FSA.\n",
    "token_sampler = AWRS(llm, coerced_fsa)"
   ]
  },
  {
   "cell_type": "code",
   "execution_count": null,
   "id": "934d4033-33d2-4d72-9983-e387c2ae1f35",
   "metadata": {},
   "outputs": [],
   "source": [
    "# Check for CUDA-related package versions\n",
    "import subprocess\n",
    "import sys\n",
    "\n",
    "def run_cmd(cmd):\n",
    "    try:\n",
    "        result = subprocess.run(cmd, shell=True, capture_output=True, text=True)\n",
    "        return result.stdout.strip()\n",
    "    except:\n",
    "        return \"Command failed\"\n",
    "\n",
    "print(\"Python package versions:\")\n",
    "print(\"=\" * 30)\n",
    "\n",
    "packages = [\n",
    "    \"torch\", \"torchvision\", \"torchaudio\", \n",
    "    \"vllm\", \"triton\", \"xformers\",\n",
    "    \"transformers\", \"accelerate\"\n",
    "]\n",
    "\n",
    "for pkg in packages:\n",
    "    try:\n",
    "        version = __import__(pkg).__version__\n",
    "        print(f\"{pkg}: {version}\")\n",
    "    except ImportError:\n",
    "        print(f\"{pkg}: Not installed\")\n",
    "    except AttributeError:\n",
    "        print(f\"{pkg}: Version unknown\")\n",
    "\n",
    "# Check pip installations\n",
    "print(\"\\nCUDA-related pip packages:\")\n",
    "print(\"=\" * 30)\n",
    "print(run_cmd(\"pip list | grep -i cuda\"))\n",
    "print(run_cmd(\"pip list | grep -i torch\"))"
   ]
  },
  {
   "cell_type": "code",
   "execution_count": null,
   "id": "f15cd666-bf17-47e8-a1d5-1a8ace2868e4",
   "metadata": {},
   "outputs": [],
   "source": [
    "# Generate text using SMC.\n",
    "# Generation is asynchronous; use `await` if calling in an async context (like in an async\n",
    "# function or in a Jupyter notebook) and `asyncio.run(token_sampler.smc(...))` otherwise.\n",
    "sequences = await token_sampler.smc(\n",
    "    n_particles=10, # Number of candidate sequences to maintain\n",
    "    ess_threshold=0.5, # Threshold for resampling\n",
    "    max_tokens=30, # Maximum sequence length\n",
    "    verbosity=1 # Print particles at each step\n",
    ")"
   ]
  },
  {
   "cell_type": "code",
   "execution_count": null,
   "id": "a0ad45ad-87cd-46c8-b88e-f7b6956ceda6",
   "metadata": {},
   "outputs": [],
   "source": [
    "sequences.decoded_posterior\n",
    "# Example output:\n",
    "# {\n",
    "#   ' SMC is 🔥🔥 with LMs': 1.0,\n",
    "# }"
   ]
  }
 ],
 "metadata": {
  "kernelspec": {
   "display_name": "Python 3 (ipykernel)",
   "language": "python",
   "name": "python3"
  },
  "language_info": {
   "codemirror_mode": {
    "name": "ipython",
    "version": 3
   },
   "file_extension": ".py",
   "mimetype": "text/x-python",
   "name": "python",
   "nbconvert_exporter": "python",
   "pygments_lexer": "ipython3",
   "version": "3.11.0rc1"
  }
 },
 "nbformat": 4,
 "nbformat_minor": 5
}
